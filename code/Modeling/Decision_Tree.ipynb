{
 "cells": [
  {
   "cell_type": "markdown",
   "metadata": {},
   "source": [
    "### Importando bibliotecas"
   ]
  },
  {
   "cell_type": "code",
   "execution_count": 7,
   "metadata": {},
   "outputs": [],
   "source": [
    "import os\n",
    "import warnings\n",
    "import numpy as np\n",
    "import pandas as pd\n",
    "from model_methods import ModelingML\n",
    "from sklearn.pipeline import make_pipeline\n",
    "from sklearn.preprocessing import RobustScaler\n",
    "from sklearn.tree import DecisionTreeClassifier \n",
    "from sklearn.model_selection import train_test_split, cross_val_score, KFold, GridSearchCV \n",
    "from sklearn.metrics import accuracy_score, roc_auc_score, roc_curve, classification_report, confusion_matrix\n",
    "\n",
    "warnings.filterwarnings('ignore')"
   ]
  },
  {
   "cell_type": "markdown",
   "metadata": {},
   "source": [
    "#### Importando dataset com dados já balanceados"
   ]
  },
  {
   "cell_type": "code",
   "execution_count": 4,
   "metadata": {},
   "outputs": [
    {
     "data": {
      "text/html": [
       "<div>\n",
       "<style scoped>\n",
       "    .dataframe tbody tr th:only-of-type {\n",
       "        vertical-align: middle;\n",
       "    }\n",
       "\n",
       "    .dataframe tbody tr th {\n",
       "        vertical-align: top;\n",
       "    }\n",
       "\n",
       "    .dataframe thead th {\n",
       "        text-align: right;\n",
       "    }\n",
       "</style>\n",
       "<table border=\"1\" class=\"dataframe\">\n",
       "  <thead>\n",
       "    <tr style=\"text-align: right;\">\n",
       "      <th></th>\n",
       "      <th>distance_from_home</th>\n",
       "      <th>distance_from_last_transaction</th>\n",
       "      <th>ratio_to_median_purchase_price</th>\n",
       "      <th>repeat_retailer</th>\n",
       "      <th>used_chip</th>\n",
       "      <th>used_pin_number</th>\n",
       "      <th>online_order</th>\n",
       "      <th>fraud</th>\n",
       "    </tr>\n",
       "  </thead>\n",
       "  <tbody>\n",
       "    <tr>\n",
       "      <th>0</th>\n",
       "      <td>50.949999</td>\n",
       "      <td>1.334565</td>\n",
       "      <td>19.135835</td>\n",
       "      <td>1.0</td>\n",
       "      <td>0.0</td>\n",
       "      <td>0.0</td>\n",
       "      <td>1.0</td>\n",
       "      <td>1.0</td>\n",
       "    </tr>\n",
       "    <tr>\n",
       "      <th>1</th>\n",
       "      <td>12.637625</td>\n",
       "      <td>0.449998</td>\n",
       "      <td>0.833165</td>\n",
       "      <td>1.0</td>\n",
       "      <td>1.0</td>\n",
       "      <td>0.0</td>\n",
       "      <td>1.0</td>\n",
       "      <td>0.0</td>\n",
       "    </tr>\n",
       "    <tr>\n",
       "      <th>2</th>\n",
       "      <td>138.976719</td>\n",
       "      <td>0.170346</td>\n",
       "      <td>2.039094</td>\n",
       "      <td>1.0</td>\n",
       "      <td>0.0</td>\n",
       "      <td>0.0</td>\n",
       "      <td>1.0</td>\n",
       "      <td>1.0</td>\n",
       "    </tr>\n",
       "    <tr>\n",
       "      <th>3</th>\n",
       "      <td>10.092660</td>\n",
       "      <td>0.461320</td>\n",
       "      <td>0.769604</td>\n",
       "      <td>1.0</td>\n",
       "      <td>0.0</td>\n",
       "      <td>0.0</td>\n",
       "      <td>0.0</td>\n",
       "      <td>0.0</td>\n",
       "    </tr>\n",
       "    <tr>\n",
       "      <th>4</th>\n",
       "      <td>34.763383</td>\n",
       "      <td>0.493386</td>\n",
       "      <td>2.287777</td>\n",
       "      <td>1.0</td>\n",
       "      <td>0.0</td>\n",
       "      <td>0.0</td>\n",
       "      <td>0.0</td>\n",
       "      <td>0.0</td>\n",
       "    </tr>\n",
       "    <tr>\n",
       "      <th>...</th>\n",
       "      <td>...</td>\n",
       "      <td>...</td>\n",
       "      <td>...</td>\n",
       "      <td>...</td>\n",
       "      <td>...</td>\n",
       "      <td>...</td>\n",
       "      <td>...</td>\n",
       "      <td>...</td>\n",
       "    </tr>\n",
       "    <tr>\n",
       "      <th>34881</th>\n",
       "      <td>3.097137</td>\n",
       "      <td>0.005010</td>\n",
       "      <td>0.863223</td>\n",
       "      <td>1.0</td>\n",
       "      <td>0.0</td>\n",
       "      <td>0.0</td>\n",
       "      <td>1.0</td>\n",
       "      <td>0.0</td>\n",
       "    </tr>\n",
       "    <tr>\n",
       "      <th>34882</th>\n",
       "      <td>4.858144</td>\n",
       "      <td>1.136540</td>\n",
       "      <td>6.681870</td>\n",
       "      <td>1.0</td>\n",
       "      <td>0.0</td>\n",
       "      <td>0.0</td>\n",
       "      <td>1.0</td>\n",
       "      <td>1.0</td>\n",
       "    </tr>\n",
       "    <tr>\n",
       "      <th>34883</th>\n",
       "      <td>5.339294</td>\n",
       "      <td>0.180431</td>\n",
       "      <td>3.970471</td>\n",
       "      <td>1.0</td>\n",
       "      <td>1.0</td>\n",
       "      <td>0.0</td>\n",
       "      <td>1.0</td>\n",
       "      <td>0.0</td>\n",
       "    </tr>\n",
       "    <tr>\n",
       "      <th>34884</th>\n",
       "      <td>0.797008</td>\n",
       "      <td>9.136527</td>\n",
       "      <td>4.447919</td>\n",
       "      <td>0.0</td>\n",
       "      <td>0.0</td>\n",
       "      <td>0.0</td>\n",
       "      <td>0.0</td>\n",
       "      <td>1.0</td>\n",
       "    </tr>\n",
       "    <tr>\n",
       "      <th>34885</th>\n",
       "      <td>131.837674</td>\n",
       "      <td>4.290415</td>\n",
       "      <td>6.231405</td>\n",
       "      <td>1.0</td>\n",
       "      <td>0.0</td>\n",
       "      <td>0.0</td>\n",
       "      <td>0.0</td>\n",
       "      <td>1.0</td>\n",
       "    </tr>\n",
       "  </tbody>\n",
       "</table>\n",
       "<p>34886 rows × 8 columns</p>\n",
       "</div>"
      ],
      "text/plain": [
       "       distance_from_home  distance_from_last_transaction  \\\n",
       "0               50.949999                        1.334565   \n",
       "1               12.637625                        0.449998   \n",
       "2              138.976719                        0.170346   \n",
       "3               10.092660                        0.461320   \n",
       "4               34.763383                        0.493386   \n",
       "...                   ...                             ...   \n",
       "34881            3.097137                        0.005010   \n",
       "34882            4.858144                        1.136540   \n",
       "34883            5.339294                        0.180431   \n",
       "34884            0.797008                        9.136527   \n",
       "34885          131.837674                        4.290415   \n",
       "\n",
       "       ratio_to_median_purchase_price  repeat_retailer  used_chip  \\\n",
       "0                           19.135835              1.0        0.0   \n",
       "1                            0.833165              1.0        1.0   \n",
       "2                            2.039094              1.0        0.0   \n",
       "3                            0.769604              1.0        0.0   \n",
       "4                            2.287777              1.0        0.0   \n",
       "...                               ...              ...        ...   \n",
       "34881                        0.863223              1.0        0.0   \n",
       "34882                        6.681870              1.0        0.0   \n",
       "34883                        3.970471              1.0        1.0   \n",
       "34884                        4.447919              0.0        0.0   \n",
       "34885                        6.231405              1.0        0.0   \n",
       "\n",
       "       used_pin_number  online_order  fraud  \n",
       "0                  0.0           1.0    1.0  \n",
       "1                  0.0           1.0    0.0  \n",
       "2                  0.0           1.0    1.0  \n",
       "3                  0.0           0.0    0.0  \n",
       "4                  0.0           0.0    0.0  \n",
       "...                ...           ...    ...  \n",
       "34881              0.0           1.0    0.0  \n",
       "34882              0.0           1.0    1.0  \n",
       "34883              0.0           1.0    0.0  \n",
       "34884              0.0           0.0    1.0  \n",
       "34885              0.0           0.0    1.0  \n",
       "\n",
       "[34886 rows x 8 columns]"
      ]
     },
     "execution_count": 4,
     "metadata": {},
     "output_type": "execute_result"
    }
   ],
   "source": [
    "data = pd.read_csv(os.getcwd().replace('code', 'data').replace('Modeling', 'processed') + '\\\\balanced_data.csv')\n",
    "data"
   ]
  },
  {
   "cell_type": "markdown",
   "metadata": {},
   "source": [
    "#### Separando conjunto de treino e teste"
   ]
  },
  {
   "cell_type": "code",
   "execution_count": 5,
   "metadata": {},
   "outputs": [],
   "source": [
    "x = data.drop('fraud', axis=1)\n",
    "y = data.fraud"
   ]
  },
  {
   "cell_type": "code",
   "execution_count": 6,
   "metadata": {},
   "outputs": [],
   "source": [
    "x_train, x_test, y_train, y_test = train_test_split(x , y, test_size=0.2, random_state=42)"
   ]
  },
  {
   "cell_type": "code",
   "execution_count": 9,
   "metadata": {},
   "outputs": [
    {
     "name": "stdout",
     "output_type": "stream",
     "text": [
      "Melhores parâmetros:  {'max_depth': 2}\n",
      "Melhores scores:  0.9342840924360054\n"
     ]
    }
   ],
   "source": [
    "# testanto melhores parâmetros para podar a árvore de decisão\n",
    "param_grid = {'max_depth':[2,]}\n",
    "\n",
    "# atribuindo modelo\n",
    "model = DecisionTreeClassifier()\n",
    "\n",
    "grid_search = GridSearchCV(estimator=model, param_grid=param_grid, cv=5, scoring='accuracy')\n",
    "\n",
    "grid_search.fit(x_train,y_train)\n",
    "\n",
    "best_paramns = grid_search.best_params_\n",
    "best_scores = grid_search.best_score_\n",
    "\n",
    "print('Melhores parâmetros: ', best_paramns)\n",
    "print('Melhores scores: ', best_scores)\n"
   ]
  },
  {
   "cell_type": "code",
   "execution_count": 11,
   "metadata": {},
   "outputs": [],
   "source": [
    "# atribuindo melhor valor encontrado\n",
    "model = DecisionTreeClassifier(max_depth=2)\n",
    "\n",
    "# define escalonador\n",
    "scaler = RobustScaler()\n",
    "\n",
    "# atribui numero de folds para análisar validação crusada nos modelos\n",
    "kf = KFold(n_splits=5, shuffle=True, random_state=42)"
   ]
  },
  {
   "cell_type": "markdown",
   "metadata": {},
   "source": [
    "# Aplicando modelo de Árvore de Decisão"
   ]
  },
  {
   "cell_type": "code",
   "execution_count": 12,
   "metadata": {},
   "outputs": [],
   "source": [
    "# atribui a classe que criamos\n",
    "method = ModelingML()"
   ]
  },
  {
   "cell_type": "code",
   "execution_count": 13,
   "metadata": {},
   "outputs": [],
   "source": [
    "# executa função de regressão logística e atribui retorno da função às variáveis\n",
    "y_pred, accuracy, cm, fpr, tpr, thresholds, auc = method.classification_model(model, scaler, x_train, x_test, y_train, y_test)"
   ]
  },
  {
   "cell_type": "code",
   "execution_count": 14,
   "metadata": {},
   "outputs": [
    {
     "name": "stdout",
     "output_type": "stream",
     "text": [
      "              precision    recall  f1-score   support\n",
      "\n",
      "         0.0       0.95      0.93      0.94      3500\n",
      "         1.0       0.93      0.95      0.94      3478\n",
      "\n",
      "    accuracy                           0.94      6978\n",
      "   macro avg       0.94      0.94      0.94      6978\n",
      "weighted avg       0.94      0.94      0.94      6978\n",
      "\n",
      "------------------------------------------------------------\n",
      "A acurácia do modelo de Regressão Logística é: 0.9379478360561766\n",
      "------------------------------------------------------------\n"
     ]
    },
    {
     "data": {
      "image/png": "[encoded data removed]",
      "text/plain": [
       "<Figure size 500x500 with 1 Axes>"
      ]
     },
     "metadata": {},
     "output_type": "display_data"
    }
   ],
   "source": [
    "# exibe métricas de validação\n",
    "metrics = method.metrics_validation(y_test, y_pred, accuracy, cm)"
   ]
  },
  {
   "cell_type": "code",
   "execution_count": 15,
   "metadata": {},
   "outputs": [
    {
     "data": {
      "image/png": "[encoded data removed]",
      "text/plain": [
       "<Figure size 600x600 with 1 Axes>"
      ]
     },
     "metadata": {},
     "output_type": "display_data"
    }
   ],
   "source": [
    "cros_val = method.cross_val(fpr, tpr, auc)"
   ]
  },
  {
   "cell_type": "code",
   "execution_count": null,
   "metadata": {},
   "outputs": [],
   "source": []
  }
 ],
 "metadata": {
  "kernelspec": {
   "display_name": "Python 3",
   "language": "python",
   "name": "python3"
  },
  "language_info": {
   "codemirror_mode": {
    "name": "ipython",
    "version": 3
   },
   "file_extension": ".py",
   "mimetype": "text/x-python",
   "name": "python",
   "nbconvert_exporter": "python",
   "pygments_lexer": "ipython3",
   "version": "3.11.2"
  }
 },
 "nbformat": 4,
 "nbformat_minor": 2
}
